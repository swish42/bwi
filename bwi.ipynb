{
 "cells": [
  {
   "cell_type": "markdown",
   "metadata": {},
   "source": [
    "Stelle alle Daten aus der Datenbank sowie das Maximalgewicht der beiden Transporter bereit."
   ]
  },
  {
   "cell_type": "code",
   "execution_count": 1,
   "metadata": {},
   "outputs": [],
   "source": [
    "import sqlite3\n",
    "connection = sqlite3.connect(\"hardware.db\")\n",
    "cursor = connection.cursor()\n",
    "cursor.execute(\"SELECT * FROM hardware;\")\n",
    "hardware = cursor.fetchall()\n",
    "cursor.close()\n",
    "connection.close()\n",
    "\n",
    "maxweight = 1100000\n",
    "drivers = [72400, 85700]"
   ]
  },
  {
   "cell_type": "code",
   "execution_count": 2,
   "metadata": {},
   "outputs": [
    {
     "name": "stdout",
     "output_type": "stream",
     "text": [
      "[('Notebook Büro 13\"', 205, 2451, 40), ('Notebook Büro 14\"', 420, 2978, 35), ('Notebook outdoor', 450, 3625, 80), ('Mobiltelefon Büro', 60, 717, 30), ('Mobiltelefon Outdoor', 157, 988, 60), ('Mobiltelefon Heavy Duty', 220, 1220, 65), ('Tablet Büro klein', 620, 1405, 40), ('Tablet Büro groß', 250, 1455, 40), ('Tablet outdoor klein', 540, 1690, 45), ('Tablet outdoor groß', 370, 1980, 68)]\n"
     ]
    }
   ],
   "source": [
    "print(hardware)"
   ]
  },
  {
   "cell_type": "markdown",
   "metadata": {},
   "source": [
    "Hierbei handelt es sich um ein 0/1-Knapsack-Problem mit zwei Rucksäcken, das mit dynamischer Programmierung optimal gelöst werden kann. Bei Unterteilung in 1-Gramm-Schritte werden allerdings die zugehörigen Matrizen zu groß (ca. 1 Mio * 1 Mio * 3300 bzw. 1 Mio * 1 Mio * 2 bei platzsparendem Code). Eine separate Optimierung für beide Rucksäcke ist zwar möglich (zweimal ca. 1 Mio * 3300 bzw. 1 Mio * 2 bei platzsparendem Code), garantiert aber kein globales Optimum.\n",
    "Daher wird zunächst ein Greedy-Algorithmus verwendet. Dazu wird für jedes Gerät ein \"Profit\" als Nutzwert/Gewicht berechnet und die Geräte dann nach Profit absteigend in die Transporter geladen. Ob zunächst alles in Transporter 1 und dann in Transporter 2 geladen wird oder beide Transporter abwechselnd beladen werden, macht in diesem konkreten Fall keinen Unterschied (auch bei der lokalen Optimierung später nicht), daher wird nur letztere Variante dargestellt."
   ]
  },
  {
   "cell_type": "markdown",
   "metadata": {},
   "source": [
    "Berechne zunächst die Profite und sortiere die Geräte danach."
   ]
  },
  {
   "cell_type": "code",
   "execution_count": 3,
   "metadata": {},
   "outputs": [
    {
     "name": "stdout",
     "output_type": "stream",
     "text": [
      "[('Mobiltelefon Outdoor', 157, 988, 60), ('Mobiltelefon Heavy Duty', 220, 1220, 65), ('Mobiltelefon Büro', 60, 717, 30), ('Tablet outdoor groß', 370, 1980, 68), ('Tablet Büro klein', 620, 1405, 40), ('Tablet Büro groß', 250, 1455, 40), ('Tablet outdoor klein', 540, 1690, 45), ('Notebook outdoor', 450, 3625, 80), ('Notebook Büro 13\"', 205, 2451, 40), ('Notebook Büro 14\"', 420, 2978, 35)]\n"
     ]
    }
   ],
   "source": [
    "profits = [i[3] / i[2] for i in hardware]\n",
    "hardware = [i for _,i in sorted(zip(profits, hardware), reverse=True)]\n",
    "print(hardware)"
   ]
  },
  {
   "cell_type": "markdown",
   "metadata": {},
   "source": [
    "Die Funktion findmax berechnet die optimale Beladung der Transporter nach dem Greedy-Algorithmus. Dazu wird die Hardware als Liste von Tupeln sowie die Kapazitäten der beiden Transporter übergeben. Das Ergebnis ist ein Dictionary mit den Namen der Geräte und der zugehörigen Anzahl."
   ]
  },
  {
   "cell_type": "code",
   "execution_count": 4,
   "metadata": {},
   "outputs": [],
   "source": [
    "def findmax(data, t1, t2):\n",
    "    # Initialisiere Daten\n",
    "    names = [i[0] for i in data]\n",
    "    need = [i[1] for i in data]\n",
    "    weights = [i[2] for i in data]\n",
    "    values = [i[3] for i in data]\n",
    "    # Erzeuge Transporter\n",
    "    truck1 = {key:value for key, value in zip(names, [0 for i in range(len(names))])}\n",
    "    truck2 = {key:value for key, value in zip(names, [0 for i in range(len(names))])}\n",
    "    # Speichere, wie viel bereits verladen wurde\n",
    "    used1 = 0\n",
    "    used2 = 0\n",
    "    # Belade abwechselnd die beiden Transporter nach Profit der Hardware\n",
    "    for item in range(len(need)):\n",
    "        while need[item] > 0 and (used1 + weights[item] <= t1 or used2 + weights[item] <= t2):\n",
    "            if used1 + weights[item] <= t1 and used2 + weights[item] <= t2:\n",
    "                if used1 <= used2:\n",
    "                    truck1[names[item]] += 1\n",
    "                    used1 = used1 + weights[item]\n",
    "                else:\n",
    "                    truck2[names[item]] += 1\n",
    "                    used2 = used2 + weights[item]\n",
    "                need[item] -= 1\n",
    "            elif used1 + weights[item] <= t1:\n",
    "                truck1[names[item]] += 1\n",
    "                used1 = used1 + weights[item]\n",
    "                need[item] -= 1\n",
    "            elif used2 + weights[item] <= t2:\n",
    "                truck2[names[item]] += 1\n",
    "                used2 = used2 + weights[item]\n",
    "                need[item] -= 1\n",
    "            else:\n",
    "                break\n",
    "    return truck1, truck2"
   ]
  },
  {
   "cell_type": "markdown",
   "metadata": {},
   "source": [
    "Berechne die Beladung der Transporter mithilfe des Greedy-Algorithmus."
   ]
  },
  {
   "cell_type": "code",
   "execution_count": 5,
   "metadata": {},
   "outputs": [
    {
     "name": "stdout",
     "output_type": "stream",
     "text": [
      "{'Mobiltelefon Outdoor': 79, 'Mobiltelefon Heavy Duty': 110, 'Mobiltelefon Büro': 29, 'Tablet outdoor groß': 185, 'Tablet Büro klein': 304, 'Tablet Büro groß': 0, 'Tablet outdoor klein': 0, 'Notebook outdoor': 0, 'Notebook Büro 13\"': 0, 'Notebook Büro 14\"': 0}\n",
      "{'Mobiltelefon Outdoor': 78, 'Mobiltelefon Heavy Duty': 110, 'Mobiltelefon Büro': 31, 'Tablet outdoor groß': 185, 'Tablet Büro klein': 295, 'Tablet Büro groß': 0, 'Tablet outdoor klein': 0, 'Notebook outdoor': 0, 'Notebook Büro 13\"': 0, 'Notebook Büro 14\"': 0}\n"
     ]
    }
   ],
   "source": [
    "truck1, truck2 = findmax(hardware, maxweight-drivers[0], maxweight-drivers[1])\n",
    "print(truck1)\n",
    "print(truck2)"
   ]
  },
  {
   "cell_type": "markdown",
   "metadata": {},
   "source": [
    "Die Funktions totals berechnet das Gewicht der verladenen Hardware sowie die Nutzwerte der zwei Transporter."
   ]
  },
  {
   "cell_type": "code",
   "execution_count": 6,
   "metadata": {},
   "outputs": [],
   "source": [
    "def totals(data, t1, t2):\n",
    "    gewicht1 = sum([t1[data[i][0]] * data[i][2] for i in range(len(data))])\n",
    "    gewicht2 = sum([t2[data[i][0]] * data[i][2] for i in range(len(data))])\n",
    "    wert1 = sum([t1[data[i][0]] * data[i][3] for i in range(len(data))])\n",
    "    wert2 = sum([t2[data[i][0]] * data[i][3] for i in range(len(data))])\n",
    "    print(\"Gewicht 1: \" + str(gewicht1))\n",
    "    print(\"Wert 1: \" + str(wert1))\n",
    "    print(\"Gewicht 2: \" + str(gewicht2))\n",
    "    print(\"Wert 2: \" + str(wert2))\n",
    "    print(\"Gewicht 1+2: \" + str(gewicht1 + gewicht2))\n",
    "    print(\"Wert 1+2: \" + str(wert1 + wert2))"
   ]
  },
  {
   "cell_type": "markdown",
   "metadata": {},
   "source": [
    "Berechne die verladenen Gewichte und Nutzwerte je Transporter."
   ]
  },
  {
   "cell_type": "code",
   "execution_count": 7,
   "metadata": {},
   "outputs": [
    {
     "name": "stdout",
     "output_type": "stream",
     "text": [
      "Gewicht 1: 1026465\n",
      "Wert 1: 37500\n",
      "Gewicht 2: 1014266\n",
      "Wert 2: 37140\n",
      "Gewicht 1+2: 2040731\n",
      "Wert 1+2: 74640\n"
     ]
    }
   ],
   "source": [
    "totals(hardware, truck1, truck2)"
   ]
  },
  {
   "cell_type": "markdown",
   "metadata": {},
   "source": [
    "Lokale Optimierung: Im folgenden Schritt wird in der Nähe der Greedy-Lösung eine bessere Lösung gesucht. Dazu werden 25 Geräte je Typ wieder ausgepackt und mit dynamischer Programmierung der verbleibende Platz im Transporter optimal genutzt (die 25 ist so gewählt, dass das Programm zumindest auf meinem PC in vertretbarer Zeit läuft). Da noch Geräte der Art 'Tablet Büro klein' übrig sind, werden dabei 'Notebook Büro 13', 'Notebook Büro 14' und 'Tablet Büro groß' nicht berücksichtigt, da sie höchstens den gleichen Nutzwert wie 'Tablet Büro klein' haben, aber mehr wiegen und es daher immer besser ist, 'Tablet Büro klein' einzupacken."
   ]
  },
  {
   "cell_type": "code",
   "execution_count": 8,
   "metadata": {},
   "outputs": [
    {
     "name": "stdout",
     "output_type": "stream",
     "text": [
      "[('Mobiltelefon Outdoor', 157, 988, 60), ('Mobiltelefon Heavy Duty', 220, 1220, 65), ('Mobiltelefon Büro', 60, 717, 30), ('Tablet outdoor groß', 370, 1980, 68), ('Tablet Büro klein', 620, 1405, 40), ('Tablet outdoor klein', 540, 1690, 45), ('Notebook outdoor', 450, 3625, 80)]\n"
     ]
    }
   ],
   "source": [
    "local = [i for i in hardware if i[0] not in ('Notebook Büro 13\"', 'Notebook Büro 14\"', 'Tablet Büro groß')]\n",
    "print(local)"
   ]
  },
  {
   "cell_type": "code",
   "execution_count": 9,
   "metadata": {},
   "outputs": [
    {
     "name": "stdout",
     "output_type": "stream",
     "text": [
      "{'Mobiltelefon Outdoor': 25, 'Mobiltelefon Heavy Duty': 25, 'Mobiltelefon Büro': 24, 'Tablet outdoor groß': 25, 'Tablet Büro klein': 25, 'Tablet outdoor klein': 1, 'Notebook outdoor': 0}\n",
      "{'Mobiltelefon Outdoor': 25, 'Mobiltelefon Heavy Duty': 25, 'Mobiltelefon Büro': 25, 'Tablet outdoor groß': 25, 'Tablet Büro klein': 25, 'Tablet outdoor klein': 0, 'Notebook outdoor': 0}\n"
     ]
    }
   ],
   "source": [
    "import numpy as np\n",
    "\n",
    "# Anzahl der ausgepackten Geräte je Typ\n",
    "unpack = 25\n",
    "\n",
    "# Initialisiere Daten\n",
    "need1 = [0 for i in range(len(local))]\n",
    "need2 = [0 for i in range(len(local))]\n",
    "\n",
    "total1 = 0\n",
    "actual1 = need1\n",
    "total2 = 0\n",
    "actual2 = need2\n",
    "\n",
    "t1 = findmax(local, maxweight-drivers[0], maxweight-drivers[1])[0]\n",
    "t2 = findmax(local, maxweight-drivers[0], maxweight-drivers[1])[1]\n",
    "\n",
    "rest1 = maxweight-drivers[0]  - sum([max(0,(t1[local[i][0]] - unpack)) * local[i][2] for i in range(len(local)-2)])\n",
    "rest2 = maxweight-drivers[1]  - sum([max(0,(t2[local[i][0]] - unpack)) * local[i][2] for i in range(len(local)-2)])\n",
    "\n",
    "weights = np.repeat([i[2] for i in local], unpack)\n",
    "values = np.repeat([i[3] for i in local], unpack)\n",
    "\n",
    "size = weights.size\n",
    "mat1 = np.zeros((size,rest1+1), dtype=int)\n",
    "keep1 = np.zeros((size,rest1+1), dtype=int)\n",
    "mat2 = np.zeros((size,rest2+1), dtype=int)\n",
    "keep2 = np.zeros((size,rest2+1), dtype=int)\n",
    "\n",
    "# Berechnung der optimalen Verteilung mit dynamischer Programmierung\n",
    "for i in range(size):\n",
    "    for j in range(rest1+1):\n",
    "        if weights[i] <= j:\n",
    "            if max(mat1[i-1][j], values[i] + mat1[i-1][j-weights[i]]) == mat1[i-1][j]:\n",
    "                mat1[i][j] = mat1[i-1][j]\n",
    "            else:\n",
    "                keep1[i][j] = 1\n",
    "                mat1[i][j] = values[i] + mat1[i-1][j-weights[i]]\n",
    "        else:\n",
    "            mat1[i][j] = mat1[i-1][j]\n",
    "    for k in range(rest2+1):\n",
    "        if weights[i] <= k:\n",
    "            if max(mat2[i-1][k], values[i] + mat2[i-1][k-weights[i]]) == mat2[i-1][k]:\n",
    "                mat2[i][k] = mat2[i-1][k]\n",
    "            else:\n",
    "                keep2[i][k] = 1\n",
    "                mat2[i][k] = values[i] + mat2[i-1][k-weights[i]]\n",
    "        else:\n",
    "            mat2[i][k] = mat2[i-1][k]\n",
    "\n",
    "# Ausgabe der optimalen Verteilung\n",
    "selected1 = np.array([], dtype=int)\n",
    "i, j = size-1, rest1\n",
    "while(i >= 0):\n",
    "    if keep1[i][j] == 1:\n",
    "        selected1 = np.append(selected1, i)\n",
    "        j = j-weights[i]\n",
    "    i = i - 1\n",
    "\n",
    "selected2 = np.array([], dtype=int)\n",
    "i, j = size-1, rest2\n",
    "while(i >= 0):\n",
    "    if keep2[i][j] == 1:\n",
    "        selected2 = np.append(selected2, i)\n",
    "        j = j-weights[i]\n",
    "    i = i - 1\n",
    "\n",
    "names = [i[0] for i in local]\n",
    "truck1rest = {key:value for key, value in zip(names, [0 for i in range(len(names))])}\n",
    "truck2rest = {key:value for key, value in zip(names, [0 for i in range(len(names))])}\n",
    "\n",
    "for i in selected1:\n",
    "    truck1rest[np.repeat(names, unpack)[i]] += 1\n",
    "print(truck1rest)\n",
    "for i in selected2:\n",
    "    truck2rest[np.repeat(names, unpack)[i]] += 1\n",
    "print(truck2rest)"
   ]
  },
  {
   "cell_type": "markdown",
   "metadata": {},
   "source": [
    "Die lokale Optimierung zeigt, dass statt eines 'Mobiltelefon Büro' besser ein 'Tablet outdoor klein' eingepackt werden sollte."
   ]
  },
  {
   "cell_type": "code",
   "execution_count": 10,
   "metadata": {},
   "outputs": [
    {
     "name": "stdout",
     "output_type": "stream",
     "text": [
      "{'Mobiltelefon Outdoor': 79, 'Mobiltelefon Heavy Duty': 110, 'Mobiltelefon Büro': 28, 'Tablet outdoor groß': 185, 'Tablet Büro klein': 304, 'Tablet Büro groß': 0, 'Tablet outdoor klein': 1, 'Notebook outdoor': 0, 'Notebook Büro 13\"': 0, 'Notebook Büro 14\"': 0}\n",
      "{'Mobiltelefon Outdoor': 78, 'Mobiltelefon Heavy Duty': 110, 'Mobiltelefon Büro': 31, 'Tablet outdoor groß': 185, 'Tablet Büro klein': 295, 'Tablet Büro groß': 0, 'Tablet outdoor klein': 0, 'Notebook outdoor': 0, 'Notebook Büro 13\"': 0, 'Notebook Büro 14\"': 0}\n",
      "Gewicht 1: 1027438\n",
      "Wert 1: 37515\n",
      "Gewicht 2: 1014266\n",
      "Wert 2: 37140\n",
      "Gewicht 1+2: 2041704\n",
      "Wert 1+2: 74655\n"
     ]
    }
   ],
   "source": [
    "truck1['Tablet outdoor klein'] += 1\n",
    "truck1['Mobiltelefon Büro'] -= 1\n",
    "print(truck1)\n",
    "print(truck2)\n",
    "totals(hardware, truck1, truck2)"
   ]
  }
 ],
 "metadata": {
  "kernelspec": {
   "display_name": "Python 3",
   "language": "python",
   "name": "python3"
  },
  "language_info": {
   "codemirror_mode": {
    "name": "ipython",
    "version": 3
   },
   "file_extension": ".py",
   "mimetype": "text/x-python",
   "name": "python",
   "nbconvert_exporter": "python",
   "pygments_lexer": "ipython3",
   "version": "3.7.8"
  }
 },
 "nbformat": 4,
 "nbformat_minor": 4
}
